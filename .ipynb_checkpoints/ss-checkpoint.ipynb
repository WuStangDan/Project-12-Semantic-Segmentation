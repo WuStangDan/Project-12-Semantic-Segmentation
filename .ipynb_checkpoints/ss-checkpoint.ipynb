{
 "cells": [
  {
   "cell_type": "markdown",
   "metadata": {},
   "source": [
    "# Semantic Segmentation"
   ]
  },
  {
   "cell_type": "code",
   "execution_count": 1,
   "metadata": {},
   "outputs": [
    {
     "name": "stdout",
     "output_type": "stream",
     "text": [
      "All loaded.\n"
     ]
    }
   ],
   "source": [
    "import os.path\n",
    "import tensorflow as tf\n",
    "import helper\n",
    "import warnings\n",
    "from distutils.version import LooseVersion\n",
    "import project_tests as tests\n",
    "\n",
    "print(\"All loaded.\")"
   ]
  },
  {
   "cell_type": "code",
   "execution_count": 2,
   "metadata": {},
   "outputs": [
    {
     "name": "stdout",
     "output_type": "stream",
     "text": [
      "TensorFlow Version: 1.3.0\n",
      "Default GPU Device: /gpu:0\n"
     ]
    }
   ],
   "source": [
    "# Check TensorFlow Version\n",
    "assert LooseVersion(tf.__version__) >= LooseVersion('1.0'), \\\n",
    "'Please use TensorFlow version 1.0 or newer.  You are using {}'.format(tf.__version__)\n",
    "print('TensorFlow Version: {}'.format(tf.__version__))\n",
    "\n",
    "# Check for a GPU\n",
    "if not tf.test.gpu_device_name():\n",
    "    warnings.warn('No GPU found. Please use a GPU to train your neural network.')\n",
    "else:\n",
    "    print('Default GPU Device: {}'.format(tf.test.gpu_device_name()))\n"
   ]
  },
  {
   "cell_type": "code",
   "execution_count": 3,
   "metadata": {},
   "outputs": [
    {
     "name": "stdout",
     "output_type": "stream",
     "text": [
      "Done.\n"
     ]
    }
   ],
   "source": [
    "# Download VGG model that is pretrained.\n",
    "helper.maybe_download_pretrained_vgg('./data')"
   ]
  },
  {
   "cell_type": "code",
   "execution_count": 4,
   "metadata": {},
   "outputs": [
    {
     "name": "stdout",
     "output_type": "stream",
     "text": [
      "Start test.\n",
      "Model loaded.\n",
      "Tests Passed\n"
     ]
    }
   ],
   "source": [
    "# Load pretrained model and test.\n",
    "def load_vgg(sess, vgg_path):\n",
    "    tf.saved_model.loader.load(sess, ['vgg16'], vgg_path)\n",
    "    print(\"Model loaded.\")\n",
    "    input_tensor = sess.graph.get_tensor_by_name('image_input:0')\n",
    "    keep_prob_tensor = sess.graph.get_tensor_by_name('keep_prob:0')\n",
    "    layer3_out_tensor = sess.graph.get_tensor_by_name('layer3_out:0')\n",
    "    layer4_out_tensor = sess.graph.get_tensor_by_name('layer4_out:0')\n",
    "    layer7_out_tensor = sess.graph.get_tensor_by_name('layer7_out:0')\n",
    "    \n",
    "    return input_tensor, keep_prob_tensor, layer3_out_tensor, layer4_out_tensor, layer7_out_tensor\n",
    "\n",
    "print(\"Start test.\")\n",
    "tests.test_load_vgg(load_vgg, tf)"
   ]
  },
  {
   "cell_type": "code",
   "execution_count": 5,
   "metadata": {},
   "outputs": [
    {
     "name": "stdout",
     "output_type": "stream",
     "text": [
      "Tests Passed\n"
     ]
    }
   ],
   "source": [
    "def layers(vgg_layer3_out, vgg_layer4_out, vgg_layer7_out, num_classes):\n",
    "    \"\"\"\n",
    "    Create the layers for a fully convolutional network.  Build skip-layers using the vgg layers.\n",
    "    :param vgg_layer7_out: TF Tensor for VGG Layer 3 output\n",
    "    :param vgg_layer4_out: TF Tensor for VGG Layer 4 output\n",
    "    :param vgg_layer3_out: TF Tensor for VGG Layer 7 output\n",
    "    :param num_classes: Number of classes to classify\n",
    "    :return: The Tensor for the last layer of output\n",
    "    \"\"\"\n",
    "    # Perserve spatial information with 1x1 convolution.\n",
    "    conv_1_1 = tf.layers.conv2d(vgg_layer7_out, num_classes, 1, padding='same',\n",
    "                                kernel_regularizer=tf.contrib.layers.l2_regularizer(1e-3))\n",
    "\n",
    "    # Decode and add the skip layer in.\n",
    "    layer_decode_1 = tf.layers.conv2d_transpose(conv_1_1, num_classes, 4, strides=(2,2), padding='same',\n",
    "                                       kernel_regularizer=tf.contrib.layers.l2_regularizer(1e-3))\n",
    "    vgg_layer4_in = tf.layers.conv2d(vgg_layer4_out, num_classes, 1, padding='same',\n",
    "                                     kernel_regularizer=tf.contrib.layers.l2_regularizer(1e-3))\n",
    "    add_layer_1 = tf.add(layer_decode_1, vgg_layer4_in)\n",
    "\n",
    "    # Decode and add the skip layer in.\n",
    "    layer_decode_2 = tf.layers.conv2d_transpose(add_layer_1, num_classes, 4, strides=(2,2), padding='same',\n",
    "                                               kernel_regularizer=tf.contrib.layers.l2_regularizer(1e-3))\n",
    "    vgg_layer3_in = tf.layers.conv2d(vgg_layer3_out, num_classes, 1, padding='same',\n",
    "                                     kernel_regularizer=tf.contrib.layers.l2_regularizer(1e-3))\n",
    "    add_layer_2 = tf.add(layer_decode_2, vgg_layer3_in)\n",
    "\n",
    "    # Bring back up to final size.\n",
    "    layer_decode_3 = tf.layers.conv2d_transpose(add_layer_2, num_classes, 16, strides=(8,8), padding='same',\n",
    "                                              kernel_regularizer=tf.contrib.layers.l2_regularizer(1e-3))\n",
    "    return layer_decode_3\n",
    "tests.test_layers(layers)"
   ]
  },
  {
   "cell_type": "code",
   "execution_count": 6,
   "metadata": {},
   "outputs": [
    {
     "name": "stdout",
     "output_type": "stream",
     "text": [
      "Tests Passed\n"
     ]
    }
   ],
   "source": [
    "def optimize(nn_last_layer, correct_label, learning_rate, num_classes):\n",
    "    \"\"\"\n",
    "    Build the TensorFLow loss and optimizer operations.\n",
    "    :param nn_last_layer: TF Tensor of the last layer in the neural network\n",
    "    :param correct_label: TF Placeholder for the correct label image\n",
    "    :param learning_rate: TF Placeholder for the learning rate\n",
    "    :param num_classes: Number of classes to classify\n",
    "    :return: Tuple of (logits, train_op, cross_entropy_loss)\n",
    "    \"\"\"\n",
    "    logits = tf.reshape(nn_last_layer, (-1, num_classes))\n",
    "    cross_entropy_loss = tf.reduce_mean(tf.nn.softmax_cross_entropy_with_logits(logits=logits, labels=correct_label))\n",
    "    train_op = tf.train.AdamOptimizer(learning_rate).minimize(cross_entropy_loss)\n",
    "    \n",
    "    return logits, train_op, cross_entropy_loss\n",
    "tests.test_optimize(optimize)"
   ]
  },
  {
   "cell_type": "code",
   "execution_count": 7,
   "metadata": {},
   "outputs": [
    {
     "name": "stdout",
     "output_type": "stream",
     "text": [
      "Hello\n"
     ]
    }
   ],
   "source": [
    "print(\"Hello\")"
   ]
  },
  {
   "cell_type": "code",
   "execution_count": 8,
   "metadata": {},
   "outputs": [
    {
     "name": "stdout",
     "output_type": "stream",
     "text": [
      "Start test\n",
      "In train nn\n",
      "Epoch  0 Loss  10.11\n",
      "Tests Passed\n",
      "End test\n"
     ]
    }
   ],
   "source": [
    "def train_nn(sess, epochs, batch_size, get_batches_fn, train_op, cross_entropy_loss, input_image,\n",
    "             correct_label, keep_prob, learning_rate):\n",
    "    print(\"In train nn\")\n",
    "    \"\"\"\n",
    "    Train neural network and print out the loss during training.\n",
    "    :param sess: TF Session\n",
    "    :param epochs: Number of epochs\n",
    "    :param batch_size: Batch size\n",
    "    :param get_batches_fn: Function to get batches of training data.  Call using get_batches_fn(batch_size)\n",
    "    :param train_op: TF Operation to train the neural network\n",
    "    :param cross_entropy_loss: TF Tensor for the amount of loss\n",
    "    :param input_image: TF Placeholder for input images\n",
    "    :param correct_label: TF Placeholder for label images\n",
    "    :param keep_prob: TF Placeholder for dropout keep probability\n",
    "    :param learning_rate: TF Placeholder for learning rate\n",
    "    \"\"\"\n",
    "    sess.run(tf.global_variables_initializer())\n",
    "    \n",
    "    for epoch in range(epochs):\n",
    "        i = 0\n",
    "        for image, label in get_batches_fn(batch_size):\n",
    "            #print(len(image), len(label))\n",
    "            _, loss = sess.run([train_op, cross_entropy_loss], feed_dict={\n",
    "                input_image: image,\n",
    "                correct_label: label,\n",
    "                keep_prob: 0.5,\n",
    "                learning_rate: 0.001\n",
    "                })\n",
    "            #print('Batch ', i, 'Size', len(label), 'Loss ',loss)\n",
    "            i += 1\n",
    "        print('Epoch ',epoch, 'Loss ',loss)\n",
    "    pass\n",
    "print(\"Start test\")\n",
    "tests.test_train_nn(train_nn)\n",
    "print(\"End test\")"
   ]
  },
  {
   "cell_type": "code",
   "execution_count": 9,
   "metadata": {
    "collapsed": true
   },
   "outputs": [],
   "source": [
    "def run():\n",
    "    num_classes = 2\n",
    "    image_shape = (160, 576)\n",
    "    data_dir = './data'\n",
    "    runs_dir = './runs'\n",
    "    tests.test_for_kitti_dataset(data_dir)\n",
    "\n",
    "    # Download pretrained vgg model\n",
    "    helper.maybe_download_pretrained_vgg(data_dir)\n",
    "\n",
    "    # OPTIONAL: Train and Inference on the cityscapes dataset instead of the Kitti dataset.\n",
    "    # You'll need a GPU with at least 10 teraFLOPS to train on.\n",
    "    #  https://www.cityscapes-dataset.com/\n",
    "    \n",
    "    epochs = 20\n",
    "    batch_size = 6\n",
    "    \n",
    "    with tf.Session() as sess:\n",
    "        # Place holders.\n",
    "        correct_label = tf.placeholder(tf.float32, shape=[None, image_shape[0],image_shape[1], num_classes])\n",
    "        learning_rate = tf.placeholder(tf.float32, shape=[])\n",
    "        # Path to vgg model\n",
    "        vgg_path = os.path.join(data_dir, 'vgg')\n",
    "        # Create function to get batches\n",
    "        get_batches_fn = helper.gen_batch_function(os.path.join(data_dir, 'data_road/training'), image_shape)\n",
    "\n",
    "        # OPTIONAL: Augment Images for better results\n",
    "        #  https://datascience.stackexchange.com/questions/5224/how-to-prepare-augment-images-for-neural-network\n",
    "\n",
    "        # TODO: Build NN using load_vgg, layers, and optimize function\n",
    "        load_info = load_vgg(sess, vgg_path)\n",
    "        last_layer = layers(load_info[2], load_info[3], load_info[4], num_classes)\n",
    "        logit, train_op, cel = optimize(last_layer, correct_label, learning_rate, num_classes)\n",
    "        \n",
    "        # TODO: Train NN using the train_nn function\n",
    "        train_nn(sess, epochs, batch_size, get_batches_fn, train_op, cel, load_info[0],\n",
    "                correct_label, load_info[1], learning_rate)\n",
    "        # TODO: Save inference data using helper.save_inference_samples\n",
    "        helper.save_inference_samples(runs_dir, data_dir, sess, image_shape, logit, load_info[1], load_info[0])\n",
    "\n",
    "        # OPTIONAL: Apply the trained model to a video"
   ]
  },
  {
   "cell_type": "code",
   "execution_count": null,
   "metadata": {},
   "outputs": [
    {
     "name": "stdout",
     "output_type": "stream",
     "text": [
      "Tests Passed\n",
      "Done.\n",
      "INFO:tensorflow:Restoring parameters from b'./data/vgg/variables/variables'\n",
      "Model loaded.\n",
      "In train nn\n",
      "Epoch  0 Loss  0.657699\n",
      "Epoch  1 Loss  0.586066\n",
      "Epoch  2 Loss  0.575364\n",
      "Epoch  3 Loss  0.549725\n",
      "Epoch  4 Loss  0.432036\n",
      "Epoch  5 Loss  0.305114\n",
      "Epoch  6 Loss  0.217046\n",
      "Epoch  7 Loss  0.244851\n",
      "Epoch  8 Loss  0.211702\n",
      "Epoch  9 Loss  0.205781\n",
      "Epoch  10 Loss  0.211476\n",
      "Epoch  11 Loss  0.320035\n",
      "Epoch  12 Loss  0.0730309\n",
      "Epoch  13 Loss  0.203108\n",
      "Epoch  14 Loss  0.195623\n",
      "Epoch  15 Loss  0.178434\n",
      "Epoch  16 Loss  0.137744\n",
      "Epoch  17 Loss  0.0517357\n",
      "Epoch  18 Loss  0.163569\n",
      "Epoch  19 Loss  0.135558\n",
      "Training Finished. Saving test images to: ./runs/1504394757.5563064\n"
     ]
    }
   ],
   "source": [
    "# Run everything.\n",
    "run()\n",
    "print(\"Done.\")"
   ]
  },
  {
   "cell_type": "code",
   "execution_count": null,
   "metadata": {
    "collapsed": true
   },
   "outputs": [],
   "source": []
  },
  {
   "cell_type": "code",
   "execution_count": null,
   "metadata": {},
   "outputs": [],
   "source": []
  },
  {
   "cell_type": "code",
   "execution_count": null,
   "metadata": {
    "collapsed": true
   },
   "outputs": [],
   "source": []
  },
  {
   "cell_type": "code",
   "execution_count": null,
   "metadata": {
    "collapsed": true
   },
   "outputs": [],
   "source": []
  }
 ],
 "metadata": {
  "kernelspec": {
   "display_name": "Python [conda env:tf1py35]",
   "language": "python",
   "name": "conda-env-tf1py35-py"
  },
  "language_info": {
   "codemirror_mode": {
    "name": "ipython",
    "version": 3
   },
   "file_extension": ".py",
   "mimetype": "text/x-python",
   "name": "python",
   "nbconvert_exporter": "python",
   "pygments_lexer": "ipython3",
   "version": "3.5.3"
  }
 },
 "nbformat": 4,
 "nbformat_minor": 2
}
